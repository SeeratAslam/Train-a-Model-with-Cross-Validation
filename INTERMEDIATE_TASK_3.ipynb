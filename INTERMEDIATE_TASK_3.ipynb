{
  "nbformat": 4,
  "nbformat_minor": 0,
  "metadata": {
    "colab": {
      "provenance": []
    },
    "kernelspec": {
      "name": "python3",
      "display_name": "Python 3"
    },
    "language_info": {
      "name": "python"
    }
  },
  "cells": [
    {
      "cell_type": "markdown",
      "source": [
        "# **TASK 3: Train a Model with Cross Validation**"
      ],
      "metadata": {
        "id": "FG84nDUcYDs4"
      }
    },
    {
      "cell_type": "code",
      "execution_count": null,
      "metadata": {
        "id": "cEIO-T1mWUSR"
      },
      "outputs": [],
      "source": [
        "# Step 1: Import libraries\n",
        "import pandas as pd\n",
        "from sklearn.model_selection import cross_validate, KFold\n",
        "from sklearn.impute import SimpleImputer\n",
        "from sklearn.preprocessing import StandardScaler, OneHotEncoder\n",
        "from sklearn.compose import ColumnTransformer\n",
        "from sklearn.pipeline import Pipeline\n",
        "from sklearn.tree import DecisionTreeClassifier"
      ]
    },
    {
      "cell_type": "code",
      "source": [
        "# Step 2: Load the Titanic Dataset\n",
        "from google.colab import drive\n",
        "drive.mount('/content/drive')"
      ],
      "metadata": {
        "colab": {
          "base_uri": "https://localhost:8080/"
        },
        "id": "kTrbw_IXYbJI",
        "outputId": "03be68cb-1bbd-4934-a987-6ef394fee8fe"
      },
      "execution_count": null,
      "outputs": [
        {
          "output_type": "stream",
          "name": "stdout",
          "text": [
            "Drive already mounted at /content/drive; to attempt to forcibly remount, call drive.mount(\"/content/drive\", force_remount=True).\n"
          ]
        }
      ]
    },
    {
      "cell_type": "code",
      "source": [
        "df = pd.read_csv('/content/drive/MyDrive/Colab Notebooks/train_data.csv')"
      ],
      "metadata": {
        "id": "Z7ph2UVcYfpY"
      },
      "execution_count": null,
      "outputs": []
    },
    {
      "cell_type": "code",
      "source": [
        "df.columns"
      ],
      "metadata": {
        "colab": {
          "base_uri": "https://localhost:8080/"
        },
        "id": "KkgDkYyMYxCA",
        "outputId": "b4bab1d7-1a73-4499-fa6d-6b8f2f4b49bd"
      },
      "execution_count": null,
      "outputs": [
        {
          "output_type": "execute_result",
          "data": {
            "text/plain": [
              "Index(['Unnamed: 0', 'PassengerId', 'Survived', 'Sex', 'Age', 'Fare',\n",
              "       'Pclass_1', 'Pclass_2', 'Pclass_3', 'Family_size', 'Title_1', 'Title_2',\n",
              "       'Title_3', 'Title_4', 'Emb_1', 'Emb_2', 'Emb_3'],\n",
              "      dtype='object')"
            ]
          },
          "metadata": {},
          "execution_count": 25
        }
      ]
    },
    {
      "cell_type": "code",
      "source": [
        "# Step 3: Select features and target variable\n",
        "X = df.iloc[:, :-1]   # All columns except last\n",
        "y = df.iloc[:, -1]"
      ],
      "metadata": {
        "id": "heceVXe5ZIbA"
      },
      "execution_count": null,
      "outputs": []
    },
    {
      "cell_type": "code",
      "source": [
        "# Step 4: Identify numeric and categorical columns\n",
        "numeric_cols = X.select_dtypes(include=['int64', 'float64']).columns.tolist()\n",
        "categorical_cols = X.select_dtypes(include=['object', 'category']).columns.tolist()"
      ],
      "metadata": {
        "id": "UAJKvWE0aKjX"
      },
      "execution_count": null,
      "outputs": []
    },
    {
      "cell_type": "code",
      "source": [
        "# Step 5: Create preprocessing pipelines\n",
        "num_pipeline = Pipeline([\n",
        "    (\"imputer\", SimpleImputer(strategy=\"median\")),       # Handle missing numeric\n",
        "    (\"scaler\", StandardScaler())                         # Normalize values\n",
        "])\n",
        "cat_pipeline = Pipeline([\n",
        "    (\"imputer\", SimpleImputer(strategy=\"most_frequent\")), # Fill missing categorical\n",
        "    (\"encoder\", OneHotEncoder(handle_unknown=\"ignore\"))   # Encode categorical\n",
        "])\n",
        "preprocessor = ColumnTransformer([\n",
        "    (\"num\", num_pipeline, numeric_cols),\n",
        "    (\"cat\", cat_pipeline, categorical_cols)\n",
        "])"
      ],
      "metadata": {
        "id": "mJ7997o_aQjW"
      },
      "execution_count": null,
      "outputs": []
    },
    {
      "cell_type": "code",
      "source": [
        "# Step 6: Build full pipeline with classifier\n",
        "model_pipeline = Pipeline([\n",
        "    (\"preprocess\", preprocessor),\n",
        "    (\"model\", DecisionTreeClassifier())   # Use Decision Tree\n",
        "])"
      ],
      "metadata": {
        "id": "W97gCfysbOJG"
      },
      "execution_count": null,
      "outputs": []
    },
    {
      "cell_type": "code",
      "source": [
        "# Step 7: Define k-fold cross-validation\n",
        "kf = KFold(n_splits=5, shuffle=True, random_state=42)"
      ],
      "metadata": {
        "id": "LPjzw8WWbWjO"
      },
      "execution_count": null,
      "outputs": []
    },
    {
      "cell_type": "code",
      "source": [
        "# Step 8: Perform cross-validation and collect scores\n",
        "scores = cross_validate(\n",
        "    model_pipeline, X, y,\n",
        "    cv=kf,\n",
        "    scoring=[\"accuracy\", \"precision\", \"recall\"],\n",
        "    return_train_score=False\n",
        ")"
      ],
      "metadata": {
        "id": "7peO3MI4bdx-"
      },
      "execution_count": null,
      "outputs": []
    },
    {
      "cell_type": "code",
      "source": [
        "# Step 99: Display average results\n",
        "print(\"\\nCross-Validation Results (5-fold):\")\n",
        "print(f\"Accuracy : {scores['test_accuracy'].mean():.3f}\")\n",
        "print(f\"Precision: {scores['test_precision'].mean():.3f}\")\n",
        "print(f\"Recall   : {scores['test_recall'].mean():.3f}\")"
      ],
      "metadata": {
        "colab": {
          "base_uri": "https://localhost:8080/"
        },
        "id": "QjALCe8zbitG",
        "outputId": "232beffd-e5a1-43a6-d16c-2de7426e570f"
      },
      "execution_count": null,
      "outputs": [
        {
          "output_type": "stream",
          "name": "stdout",
          "text": [
            "\n",
            "Cross-Validation Results (5-fold):\n",
            "Accuracy : 0.996\n",
            "Precision: 0.998\n",
            "Recall   : 0.997\n"
          ]
        }
      ]
    }
  ]
}